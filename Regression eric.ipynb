{
 "cells": [
  {
   "cell_type": "code",
   "execution_count": 1,
   "id": "c232fce9-1a75-46c0-99f2-7bd8e6347f16",
   "metadata": {},
   "outputs": [],
   "source": [
    "# The purpose of this ipynb is to examine the relationship between the factors and the q_15\n",
    "\n",
    "import os\n",
    "import requests\n",
    "import pandas as pd\n",
    "import numpy as np\n",
    "import datetime\n",
    "import glob\n",
    "from matplotlib import pyplot as plt\n",
    "from sklearn.model_selection import train_test_split\n",
    "import sklearn.linear_model as sk_lm\n",
    "import sklearn.metrics as sk_m\n"
   ]
  },
  {
   "cell_type": "code",
   "execution_count": 72,
   "id": "f47ce6e4-29b5-40a4-99c0-50fd66799dc5",
   "metadata": {},
   "outputs": [],
   "source": [
    "df = pd.read_excel(\"fulldata.xlsx\")\n",
    "df_equi = pd.read_excel(\"fulldata_with_equi.xlsx\")\n",
    "df = df.iloc[1: , :]"
   ]
  },
  {
   "cell_type": "code",
   "execution_count": 7,
   "id": "0bad2d74-ce48-4c6a-a536-4f31bf90727d",
   "metadata": {},
   "outputs": [
    {
     "data": {
      "text/plain": [
       "Index(['date_time', 'Hour', 'RES forecast', 'Load forecast', 'Mandatory Hydro',\n",
       "       'Residual Load', 'avai_lignite', 'avai_natural_gas', 'avai_hydro',\n",
       "       'QUANTITY', 'q_15', 'q_55', 'q_60', 'q_65', 'q_70', 'q_25', 'q_50',\n",
       "       'q_75', 'q_80', 'q_85', 'q_90', 'q_95', 'q_100', 'UNITPRICE', 'p_15',\n",
       "       'p_55', 'p_60', 'p_65', 'p_70', 'p_25', 'p_50', 'p_75', 'p_80', 'p_85',\n",
       "       'p_90', 'p_95', 'p_100', 'Residual Load Diff'],\n",
       "      dtype='object')"
      ]
     },
     "execution_count": 7,
     "metadata": {},
     "output_type": "execute_result"
    }
   ],
   "source": [
    "df.columns"
   ]
  },
  {
   "cell_type": "code",
   "execution_count": 73,
   "id": "a56000e3-569e-4d9c-bfa8-893e28a67e79",
   "metadata": {},
   "outputs": [],
   "source": [
    "df.columns = [col.replace(' ', '_') for col in df.columns]\n",
    "df_equi.columns = [col.replace(' ', '_') for col in df_equi.columns]\n",
    "# df = df.rename(columns={\"RES forecast\": \"RES_forecast\", \"Load forecast\": \"Load_forecast\", \n",
    "#                    \"Mandatory Hydro\": \"Mandatory_Hydro\", \"Residual Load\": \"Residual_Load\",\n",
    "#                    \"Residual Load Diff\": \"Residual_Load_Diff\"})\n"
   ]
  },
  {
   "cell_type": "code",
   "execution_count": 25,
   "id": "28d9eb35-d6e0-433e-99f3-bb4c1d9d5e00",
   "metadata": {},
   "outputs": [],
   "source": [
    "df_train, df_test = train_test_split(df, train_size = 0.7,\n",
    "                                           random_state = 123,\n",
    "                                           shuffle = True)\n",
    "df_train_q_15 = df_train[['q_15','RES_forecast','Load_forecast','Mandatory_Hydro','Residual_Load','avai_lignite','avai_natural_gas', 'Residual_Load_Diff']]\n",
    "df_test_q_15 = df_test[['q_15','RES_forecast','Load_forecast','Mandatory_Hydro','Residual_Load','avai_lignite','avai_natural_gas', 'Residual_Load_Diff']]"
   ]
  },
  {
   "cell_type": "code",
   "execution_count": 28,
   "id": "8f29d37c-4ae0-4299-9722-a134e3d5733a",
   "metadata": {},
   "outputs": [],
   "source": [
    "# Fit a linear regression model on the training set\n",
    "lm_q_15 = sk_lm.LinearRegression()\n",
    "lm_q_15.fit(df_train_q_15.loc[:, df_train_q_15.columns != 'q_15'], df_train_q_15.q_15)\n",
    "preds_q_15 = lm_q_15.predict(df_test_q_15.loc[:, df_test_q_15.columns != 'q_15'])"
   ]
  },
  {
   "cell_type": "code",
   "execution_count": 29,
   "id": "0b023049-05a9-4f15-a6c7-acf8dbc3cce7",
   "metadata": {},
   "outputs": [
    {
     "name": "stdout",
     "output_type": "stream",
     "text": [
      "Predicting q_15\n"
     ]
    },
    {
     "data": {
      "text/plain": [
       "0.9714811670146682"
      ]
     },
     "execution_count": 29,
     "metadata": {},
     "output_type": "execute_result"
    }
   ],
   "source": [
    "print(\"Predicting q_15\")\n",
    "sk_m.r2_score(df_test_q_15.q_15, preds_q_15)"
   ]
  },
  {
   "cell_type": "code",
   "execution_count": 31,
   "id": "c68663d6-e522-4b5d-9453-8df9faf1b927",
   "metadata": {},
   "outputs": [],
   "source": [
    "df_train, df_test = train_test_split(df, train_size = 0.7,\n",
    "                                           random_state = 123,\n",
    "                                           shuffle = True)\n",
    "df_train_q_75 = df_train[['q_75','RES_forecast','Load_forecast','Mandatory_Hydro','Residual_Load','avai_lignite','avai_natural_gas', 'Residual_Load_Diff']]\n",
    "df_test_q_75 = df_test[['q_75','RES_forecast','Load_forecast','Mandatory_Hydro','Residual_Load','avai_lignite','avai_natural_gas', 'Residual_Load_Diff']]"
   ]
  },
  {
   "cell_type": "code",
   "execution_count": 33,
   "id": "79d9dbda-6cfc-4ccc-83ed-fda45fd5b89b",
   "metadata": {},
   "outputs": [],
   "source": [
    "# Fit a linear regression model on the training set\n",
    "lm_q_75 = sk_lm.LinearRegression()\n",
    "lm_q_75.fit(df_train_q_75.loc[:, df_train_q_75.columns != 'q_75'], df_train_q_75.q_75)\n",
    "preds_q_75 = lm_q_75.predict(df_test_q_75.loc[:, df_test_q_75.columns != 'q_75'])"
   ]
  },
  {
   "cell_type": "code",
   "execution_count": 34,
   "id": "0685ecb2-adaf-476f-b6d2-4e66b1ca3885",
   "metadata": {},
   "outputs": [
    {
     "name": "stdout",
     "output_type": "stream",
     "text": [
      "Predicting q_75\n"
     ]
    },
    {
     "data": {
      "text/plain": [
       "0.8601332382783387"
      ]
     },
     "execution_count": 34,
     "metadata": {},
     "output_type": "execute_result"
    }
   ],
   "source": [
    "print(\"Predicting q_75\")\n",
    "sk_m.r2_score(df_test_q_75.q_75, preds_q_75)"
   ]
  },
  {
   "cell_type": "code",
   "execution_count": 35,
   "id": "cff782fc-83aa-4b9a-bf12-2aacff60b458",
   "metadata": {},
   "outputs": [],
   "source": [
    "df_train, df_test = train_test_split(df, train_size = 0.7,\n",
    "                                           random_state = 123,\n",
    "                                           shuffle = True)\n",
    "df_train_q_95 = df_train[['q_95','RES_forecast','Load_forecast','Mandatory_Hydro','Residual_Load','avai_lignite','avai_natural_gas', 'Residual_Load_Diff']]\n",
    "df_test_q_95 = df_test[['q_95','RES_forecast','Load_forecast','Mandatory_Hydro','Residual_Load','avai_lignite','avai_natural_gas', 'Residual_Load_Diff']]"
   ]
  },
  {
   "cell_type": "code",
   "execution_count": 36,
   "id": "d69a8f6f-ae5a-4da3-acbc-0193c8400dcc",
   "metadata": {},
   "outputs": [
    {
     "name": "stdout",
     "output_type": "stream",
     "text": [
      "Predicting q_95\n"
     ]
    },
    {
     "data": {
      "text/plain": [
       "0.8489443401925544"
      ]
     },
     "execution_count": 36,
     "metadata": {},
     "output_type": "execute_result"
    }
   ],
   "source": [
    "# Fit a linear regression model on the training set\n",
    "lm_q_95 = sk_lm.LinearRegression()\n",
    "lm_q_95.fit(df_train_q_95.loc[:, df_train_q_95.columns != 'q_95'], df_train_q_95.q_95)\n",
    "preds_q_95 = lm_q_95.predict(df_test_q_95.loc[:, df_test_q_95.columns != 'q_95'])\n",
    "print(\"Predicting q_95\")\n",
    "sk_m.r2_score(df_test_q_95.q_95, preds_q_95)"
   ]
  },
  {
   "cell_type": "code",
   "execution_count": null,
   "id": "cc26249d-c55a-4763-9db3-0beab36c0010",
   "metadata": {},
   "outputs": [],
   "source": []
  },
  {
   "cell_type": "code",
   "execution_count": 37,
   "id": "86fcc645-54d0-4476-813f-7df6e63456b7",
   "metadata": {},
   "outputs": [
    {
     "data": {
      "text/plain": [
       "Index(['date_time', 'Hour', 'RES_forecast', 'Load_forecast', 'Mandatory_Hydro',\n",
       "       'Residual_Load', 'avai_lignite', 'avai_natural_gas', 'avai_hydro',\n",
       "       'QUANTITY', 'q_15', 'q_55', 'q_60', 'q_65', 'q_70', 'q_25', 'q_50',\n",
       "       'q_75', 'q_80', 'q_85', 'q_90', 'q_95', 'q_100', 'UNITPRICE', 'p_15',\n",
       "       'p_55', 'p_60', 'p_65', 'p_70', 'p_25', 'p_50', 'p_75', 'p_80', 'p_85',\n",
       "       'p_90', 'p_95', 'p_100', 'Residual_Load_Diff'],\n",
       "      dtype='object')"
      ]
     },
     "execution_count": 37,
     "metadata": {},
     "output_type": "execute_result"
    }
   ],
   "source": [
    "df_train.columns"
   ]
  },
  {
   "cell_type": "code",
   "execution_count": 40,
   "id": "da39ea76-344f-45c3-a52c-458d6bf4e337",
   "metadata": {},
   "outputs": [],
   "source": [
    "import statsmodels.formula.api as smf\n",
    "reg_q_15 = smf.ols('''q_15 ~ RES_forecast + Load_forecast + Mandatory_Hydro +\n",
    "                avai_lignite + avai_natural_gas''', data=df_train)\n",
    "reg_q_15_result = reg_q_15.fit()\n"
   ]
  },
  {
   "cell_type": "code",
   "execution_count": 41,
   "id": "0eb31fed-ed6c-4a33-b88f-db0b33a6e5db",
   "metadata": {},
   "outputs": [
    {
     "data": {
      "text/html": [
       "<table class=\"simpletable\">\n",
       "<caption>OLS Regression Results</caption>\n",
       "<tr>\n",
       "  <th>Dep. Variable:</th>          <td>q_15</td>       <th>  R-squared:         </th> <td>   0.972</td> \n",
       "</tr>\n",
       "<tr>\n",
       "  <th>Model:</th>                   <td>OLS</td>       <th>  Adj. R-squared:    </th> <td>   0.972</td> \n",
       "</tr>\n",
       "<tr>\n",
       "  <th>Method:</th>             <td>Least Squares</td>  <th>  F-statistic:       </th> <td>1.131e+04</td>\n",
       "</tr>\n",
       "<tr>\n",
       "  <th>Date:</th>             <td>Sun, 10 Apr 2022</td> <th>  Prob (F-statistic):</th>  <td>  0.00</td>  \n",
       "</tr>\n",
       "<tr>\n",
       "  <th>Time:</th>                 <td>18:38:18</td>     <th>  Log-Likelihood:    </th> <td> -10671.</td> \n",
       "</tr>\n",
       "<tr>\n",
       "  <th>No. Observations:</th>      <td>  1612</td>      <th>  AIC:               </th> <td>2.135e+04</td>\n",
       "</tr>\n",
       "<tr>\n",
       "  <th>Df Residuals:</th>          <td>  1606</td>      <th>  BIC:               </th> <td>2.139e+04</td>\n",
       "</tr>\n",
       "<tr>\n",
       "  <th>Df Model:</th>              <td>     5</td>      <th>                     </th>     <td> </td>    \n",
       "</tr>\n",
       "<tr>\n",
       "  <th>Covariance Type:</th>      <td>nonrobust</td>    <th>                     </th>     <td> </td>    \n",
       "</tr>\n",
       "</table>\n",
       "<table class=\"simpletable\">\n",
       "<tr>\n",
       "          <td></td>            <th>coef</th>     <th>std err</th>      <th>t</th>      <th>P>|t|</th>  <th>[0.025</th>    <th>0.975]</th>  \n",
       "</tr>\n",
       "<tr>\n",
       "  <th>Intercept</th>        <td>  204.6155</td> <td>   78.674</td> <td>    2.601</td> <td> 0.009</td> <td>   50.302</td> <td>  358.929</td>\n",
       "</tr>\n",
       "<tr>\n",
       "  <th>RES_forecast</th>     <td>    0.9400</td> <td>    0.005</td> <td>  185.136</td> <td> 0.000</td> <td>    0.930</td> <td>    0.950</td>\n",
       "</tr>\n",
       "<tr>\n",
       "  <th>Load_forecast</th>    <td>    0.0690</td> <td>    0.004</td> <td>   16.356</td> <td> 0.000</td> <td>    0.061</td> <td>    0.077</td>\n",
       "</tr>\n",
       "<tr>\n",
       "  <th>Mandatory_Hydro</th>  <td>    0.9373</td> <td>    0.009</td> <td>  102.229</td> <td> 0.000</td> <td>    0.919</td> <td>    0.955</td>\n",
       "</tr>\n",
       "<tr>\n",
       "  <th>avai_lignite</th>     <td>    0.2575</td> <td>    0.040</td> <td>    6.495</td> <td> 0.000</td> <td>    0.180</td> <td>    0.335</td>\n",
       "</tr>\n",
       "<tr>\n",
       "  <th>avai_natural_gas</th> <td>    0.0124</td> <td>    0.013</td> <td>    0.989</td> <td> 0.323</td> <td>   -0.012</td> <td>    0.037</td>\n",
       "</tr>\n",
       "</table>\n",
       "<table class=\"simpletable\">\n",
       "<tr>\n",
       "  <th>Omnibus:</th>       <td>58.417</td> <th>  Durbin-Watson:     </th> <td>   1.940</td>\n",
       "</tr>\n",
       "<tr>\n",
       "  <th>Prob(Omnibus):</th> <td> 0.000</td> <th>  Jarque-Bera (JB):  </th> <td>  71.293</td>\n",
       "</tr>\n",
       "<tr>\n",
       "  <th>Skew:</th>          <td> 0.406</td> <th>  Prob(JB):          </th> <td>3.30e-16</td>\n",
       "</tr>\n",
       "<tr>\n",
       "  <th>Kurtosis:</th>      <td> 3.634</td> <th>  Cond. No.          </th> <td>1.33e+05</td>\n",
       "</tr>\n",
       "</table><br/><br/>Notes:<br/>[1] Standard Errors assume that the covariance matrix of the errors is correctly specified.<br/>[2] The condition number is large, 1.33e+05. This might indicate that there are<br/>strong multicollinearity or other numerical problems."
      ],
      "text/plain": [
       "<class 'statsmodels.iolib.summary.Summary'>\n",
       "\"\"\"\n",
       "                            OLS Regression Results                            \n",
       "==============================================================================\n",
       "Dep. Variable:                   q_15   R-squared:                       0.972\n",
       "Model:                            OLS   Adj. R-squared:                  0.972\n",
       "Method:                 Least Squares   F-statistic:                 1.131e+04\n",
       "Date:                Sun, 10 Apr 2022   Prob (F-statistic):               0.00\n",
       "Time:                        18:38:18   Log-Likelihood:                -10671.\n",
       "No. Observations:                1612   AIC:                         2.135e+04\n",
       "Df Residuals:                    1606   BIC:                         2.139e+04\n",
       "Df Model:                           5                                         \n",
       "Covariance Type:            nonrobust                                         \n",
       "====================================================================================\n",
       "                       coef    std err          t      P>|t|      [0.025      0.975]\n",
       "------------------------------------------------------------------------------------\n",
       "Intercept          204.6155     78.674      2.601      0.009      50.302     358.929\n",
       "RES_forecast         0.9400      0.005    185.136      0.000       0.930       0.950\n",
       "Load_forecast        0.0690      0.004     16.356      0.000       0.061       0.077\n",
       "Mandatory_Hydro      0.9373      0.009    102.229      0.000       0.919       0.955\n",
       "avai_lignite         0.2575      0.040      6.495      0.000       0.180       0.335\n",
       "avai_natural_gas     0.0124      0.013      0.989      0.323      -0.012       0.037\n",
       "==============================================================================\n",
       "Omnibus:                       58.417   Durbin-Watson:                   1.940\n",
       "Prob(Omnibus):                  0.000   Jarque-Bera (JB):               71.293\n",
       "Skew:                           0.406   Prob(JB):                     3.30e-16\n",
       "Kurtosis:                       3.634   Cond. No.                     1.33e+05\n",
       "==============================================================================\n",
       "\n",
       "Notes:\n",
       "[1] Standard Errors assume that the covariance matrix of the errors is correctly specified.\n",
       "[2] The condition number is large, 1.33e+05. This might indicate that there are\n",
       "strong multicollinearity or other numerical problems.\n",
       "\"\"\""
      ]
     },
     "execution_count": 41,
     "metadata": {},
     "output_type": "execute_result"
    }
   ],
   "source": [
    "reg_q_15_result.summary()"
   ]
  },
  {
   "cell_type": "code",
   "execution_count": 74,
   "id": "749f9998-ac31-4cf2-86b8-f636757b6cc8",
   "metadata": {},
   "outputs": [],
   "source": [
    "import sklearn\n",
    "from sklearn.linear_model import LinearRegression"
   ]
  },
  {
   "cell_type": "code",
   "execution_count": 75,
   "id": "aced29d7-dc47-42b0-a3cc-15354a2ad7f7",
   "metadata": {},
   "outputs": [],
   "source": [
    "df_equi_train, df_equi_test = train_test_split(df_equi, train_size = 0.7,\n",
    "                                           random_state = 123,\n",
    "                                           shuffle = True)"
   ]
  },
  {
   "cell_type": "code",
   "execution_count": 76,
   "id": "7e44dcdf-cb4a-43e7-8024-8c5418a3c7f4",
   "metadata": {},
   "outputs": [
    {
     "data": {
      "text/plain": [
       "Index(['Unnamed:_0', 'Hour', 'RES_forecast', 'Load_forecast',\n",
       "       'Mandatory_Hydro', 'Residual_Load', 'avai_lignite', 'avai_natural_gas',\n",
       "       'avai_hydro', 'QUANTITY', 'q_15', 'q_55', 'q_60', 'q_65', 'q_70',\n",
       "       'q_25', 'q_50', 'q_75', 'q_80', 'q_85', 'q_90', 'q_95', 'q_100',\n",
       "       'UNITPRICE', 'p_15', 'p_55', 'p_60', 'p_65', 'p_70', 'p_25', 'p_50',\n",
       "       'p_75', 'p_80', 'p_85', 'p_90', 'p_95', 'p_100', 'Residual_Load_Diff',\n",
       "       'equi_quantity', 'equi_price', 'bucket'],\n",
       "      dtype='object')"
      ]
     },
     "execution_count": 76,
     "metadata": {},
     "output_type": "execute_result"
    }
   ],
   "source": [
    "df_equi_test.columns"
   ]
  },
  {
   "cell_type": "code",
   "execution_count": null,
   "id": "50be93a5-eba4-495b-936b-79db8457af5f",
   "metadata": {},
   "outputs": [],
   "source": []
  },
  {
   "cell_type": "code",
   "execution_count": 107,
   "id": "f4b0ad92-eab2-4ef7-a51b-ee7f2b900090",
   "metadata": {},
   "outputs": [],
   "source": [
    "# train = df_train\n",
    "def lin_reg(target):\n",
    "    train_x = df_equi_train[['RES_forecast', 'Load_forecast', 'Mandatory_Hydro', 'Residual_Load','avai_lignite', 'avai_natural_gas', 'avai_hydro']]\n",
    "    train_y = df_equi_train[target]\n",
    "    test_x = df_equi_test[['RES_forecast', 'Load_forecast', 'Mandatory_Hydro', 'Residual_Load','avai_lignite', 'avai_natural_gas', 'avai_hydro']]\n",
    "    test_y = df_equi_test[target]\n",
    "    reg = LinearRegression().fit(train_x, train_y)\n",
    "    pred_y =reg.predict(test_x)\n",
    "    return reg.score(train_x, train_y),    reg.score(test_x, test_y)"
   ]
  },
  {
   "cell_type": "code",
   "execution_count": 114,
   "id": "2907e6e6-45ab-4a46-9af7-1a1813f63907",
   "metadata": {},
   "outputs": [
    {
     "data": {
      "text/plain": [
       "(0.8621311875021505, 0.8768851402623723)"
      ]
     },
     "execution_count": 114,
     "metadata": {},
     "output_type": "execute_result"
    }
   ],
   "source": [
    "lin_reg('q_90')"
   ]
  },
  {
   "cell_type": "code",
   "execution_count": 97,
   "id": "5a204dd7-1a31-49e2-af82-1d8b4e043c8c",
   "metadata": {},
   "outputs": [
    {
     "data": {
      "text/plain": [
       "0.7829034501329182"
      ]
     },
     "execution_count": 97,
     "metadata": {},
     "output_type": "execute_result"
    }
   ],
   "source": []
  },
  {
   "cell_type": "code",
   "execution_count": 98,
   "id": "dda9ed74-8ec7-44d2-98ae-165db6e9a8e9",
   "metadata": {},
   "outputs": [
    {
     "data": {
      "text/plain": [
       "0.7980628403445791"
      ]
     },
     "execution_count": 98,
     "metadata": {},
     "output_type": "execute_result"
    }
   ],
   "source": []
  },
  {
   "cell_type": "code",
   "execution_count": 101,
   "id": "c5406e2d-879e-4b89-9f8e-f77fd8041998",
   "metadata": {},
   "outputs": [
    {
     "name": "stdout",
     "output_type": "stream",
     "text": [
      "692\n"
     ]
    },
    {
     "data": {
      "text/plain": [
       "520.7604440618566"
      ]
     },
     "execution_count": 101,
     "metadata": {},
     "output_type": "execute_result"
    }
   ],
   "source": [
    "from sklearn.metrics import mean_squared_error\n",
    "from math import sqrt\n",
    "mse = mean_squared_error(test_y, pred_y)\n",
    "rmse = sqrt(mse)\n",
    "print(len(pred_y))\n",
    "rmse"
   ]
  },
  {
   "cell_type": "code",
   "execution_count": 42,
   "id": "77ce0413-72ae-43dd-9dcf-371994b3ea44",
   "metadata": {},
   "outputs": [],
   "source": [
    "\n",
    "reg_eqq = smf.ols('''q_75 ~ RES_forecast + Load_forecast + Mandatory_Hydro +\n",
    "                Residual_Load + avai_lignite + avai_natural_gas\n",
    "                + Residual_Load_Diff\n",
    "                ''', data=df)\n",
    "reg_eqq_result = reg_eqq.fit()"
   ]
  },
  {
   "cell_type": "code",
   "execution_count": 45,
   "id": "eb2d6e6c-ebc2-4666-b157-5607eb1ac866",
   "metadata": {},
   "outputs": [
    {
     "data": {
      "text/html": [
       "<table class=\"simpletable\">\n",
       "<caption>OLS Regression Results</caption>\n",
       "<tr>\n",
       "  <th>Dep. Variable:</th>          <td>q_75</td>       <th>  R-squared:         </th> <td>   0.864</td> \n",
       "</tr>\n",
       "<tr>\n",
       "  <th>Model:</th>                   <td>OLS</td>       <th>  Adj. R-squared:    </th> <td>   0.864</td> \n",
       "</tr>\n",
       "<tr>\n",
       "  <th>Method:</th>             <td>Least Squares</td>  <th>  F-statistic:       </th> <td>   2437.</td> \n",
       "</tr>\n",
       "<tr>\n",
       "  <th>Date:</th>             <td>Sun, 10 Apr 2022</td> <th>  Prob (F-statistic):</th>  <td>  0.00</td>  \n",
       "</tr>\n",
       "<tr>\n",
       "  <th>Time:</th>                 <td>18:39:13</td>     <th>  Log-Likelihood:    </th> <td> -17104.</td> \n",
       "</tr>\n",
       "<tr>\n",
       "  <th>No. Observations:</th>      <td>  2303</td>      <th>  AIC:               </th> <td>3.422e+04</td>\n",
       "</tr>\n",
       "<tr>\n",
       "  <th>Df Residuals:</th>          <td>  2296</td>      <th>  BIC:               </th> <td>3.426e+04</td>\n",
       "</tr>\n",
       "<tr>\n",
       "  <th>Df Model:</th>              <td>     6</td>      <th>                     </th>     <td> </td>    \n",
       "</tr>\n",
       "<tr>\n",
       "  <th>Covariance Type:</th>      <td>nonrobust</td>    <th>                     </th>     <td> </td>    \n",
       "</tr>\n",
       "</table>\n",
       "<table class=\"simpletable\">\n",
       "<tr>\n",
       "           <td></td>             <th>coef</th>     <th>std err</th>      <th>t</th>      <th>P>|t|</th>  <th>[0.025</th>    <th>0.975]</th>  \n",
       "</tr>\n",
       "<tr>\n",
       "  <th>Intercept</th>          <td> 3002.2222</td> <td>  145.853</td> <td>   20.584</td> <td> 0.000</td> <td> 2716.204</td> <td> 3288.240</td>\n",
       "</tr>\n",
       "<tr>\n",
       "  <th>RES_forecast</th>       <td>    0.6414</td> <td>    0.008</td> <td>   78.333</td> <td> 0.000</td> <td>    0.625</td> <td>    0.657</td>\n",
       "</tr>\n",
       "<tr>\n",
       "  <th>Load_forecast</th>      <td>    0.4977</td> <td>    0.006</td> <td>   87.229</td> <td> 0.000</td> <td>    0.487</td> <td>    0.509</td>\n",
       "</tr>\n",
       "<tr>\n",
       "  <th>Mandatory_Hydro</th>    <td>    0.1329</td> <td>    0.012</td> <td>   10.862</td> <td> 0.000</td> <td>    0.109</td> <td>    0.157</td>\n",
       "</tr>\n",
       "<tr>\n",
       "  <th>Residual_Load</th>      <td>   -0.2766</td> <td>    0.006</td> <td>  -43.941</td> <td> 0.000</td> <td>   -0.289</td> <td>   -0.264</td>\n",
       "</tr>\n",
       "<tr>\n",
       "  <th>avai_lignite</th>       <td>   -0.1058</td> <td>    0.074</td> <td>   -1.427</td> <td> 0.154</td> <td>   -0.251</td> <td>    0.040</td>\n",
       "</tr>\n",
       "<tr>\n",
       "  <th>avai_natural_gas</th>   <td>   -0.0507</td> <td>    0.023</td> <td>   -2.178</td> <td> 0.030</td> <td>   -0.096</td> <td>   -0.005</td>\n",
       "</tr>\n",
       "<tr>\n",
       "  <th>Residual_Load_Diff</th> <td>   -0.1482</td> <td>    0.027</td> <td>   -5.406</td> <td> 0.000</td> <td>   -0.202</td> <td>   -0.094</td>\n",
       "</tr>\n",
       "</table>\n",
       "<table class=\"simpletable\">\n",
       "<tr>\n",
       "  <th>Omnibus:</th>       <td>93.336</td> <th>  Durbin-Watson:     </th> <td>   0.196</td>\n",
       "</tr>\n",
       "<tr>\n",
       "  <th>Prob(Omnibus):</th> <td> 0.000</td> <th>  Jarque-Bera (JB):  </th> <td> 104.133</td>\n",
       "</tr>\n",
       "<tr>\n",
       "  <th>Skew:</th>          <td> 0.518</td> <th>  Prob(JB):          </th> <td>2.44e-23</td>\n",
       "</tr>\n",
       "<tr>\n",
       "  <th>Kurtosis:</th>      <td> 2.893</td> <th>  Cond. No.          </th> <td>2.46e+16</td>\n",
       "</tr>\n",
       "</table><br/><br/>Notes:<br/>[1] Standard Errors assume that the covariance matrix of the errors is correctly specified.<br/>[2] The smallest eigenvalue is 2.76e-22. This might indicate that there are<br/>strong multicollinearity problems or that the design matrix is singular."
      ],
      "text/plain": [
       "<class 'statsmodels.iolib.summary.Summary'>\n",
       "\"\"\"\n",
       "                            OLS Regression Results                            \n",
       "==============================================================================\n",
       "Dep. Variable:                   q_75   R-squared:                       0.864\n",
       "Model:                            OLS   Adj. R-squared:                  0.864\n",
       "Method:                 Least Squares   F-statistic:                     2437.\n",
       "Date:                Sun, 10 Apr 2022   Prob (F-statistic):               0.00\n",
       "Time:                        18:39:13   Log-Likelihood:                -17104.\n",
       "No. Observations:                2303   AIC:                         3.422e+04\n",
       "Df Residuals:                    2296   BIC:                         3.426e+04\n",
       "Df Model:                           6                                         \n",
       "Covariance Type:            nonrobust                                         \n",
       "======================================================================================\n",
       "                         coef    std err          t      P>|t|      [0.025      0.975]\n",
       "--------------------------------------------------------------------------------------\n",
       "Intercept           3002.2222    145.853     20.584      0.000    2716.204    3288.240\n",
       "RES_forecast           0.6414      0.008     78.333      0.000       0.625       0.657\n",
       "Load_forecast          0.4977      0.006     87.229      0.000       0.487       0.509\n",
       "Mandatory_Hydro        0.1329      0.012     10.862      0.000       0.109       0.157\n",
       "Residual_Load         -0.2766      0.006    -43.941      0.000      -0.289      -0.264\n",
       "avai_lignite          -0.1058      0.074     -1.427      0.154      -0.251       0.040\n",
       "avai_natural_gas      -0.0507      0.023     -2.178      0.030      -0.096      -0.005\n",
       "Residual_Load_Diff    -0.1482      0.027     -5.406      0.000      -0.202      -0.094\n",
       "==============================================================================\n",
       "Omnibus:                       93.336   Durbin-Watson:                   0.196\n",
       "Prob(Omnibus):                  0.000   Jarque-Bera (JB):              104.133\n",
       "Skew:                           0.518   Prob(JB):                     2.44e-23\n",
       "Kurtosis:                       2.893   Cond. No.                     2.46e+16\n",
       "==============================================================================\n",
       "\n",
       "Notes:\n",
       "[1] Standard Errors assume that the covariance matrix of the errors is correctly specified.\n",
       "[2] The smallest eigenvalue is 2.76e-22. This might indicate that there are\n",
       "strong multicollinearity problems or that the design matrix is singular.\n",
       "\"\"\""
      ]
     },
     "execution_count": 45,
     "metadata": {},
     "output_type": "execute_result"
    }
   ],
   "source": [
    "reg_eqq_result.summary()"
   ]
  },
  {
   "cell_type": "code",
   "execution_count": 29,
   "id": "1ae3d672-22b0-4455-902b-cdbf0083c76e",
   "metadata": {},
   "outputs": [],
   "source": [
    "# ypred = reg_q_15.predict(test[['RES_forecast','Load_forecast','Mandatory_Hydro','Residual_Load','avai_lignite','avai_natural_gas', 'Residual_Load_Diff']])\n",
    "# reg_q_15.predict(df_test)\n",
    "# df_test[['RES_forecast','Load_forecast','Mandatory_Hydro','Residual_Load','avai_lignite','avai_natural_gas', 'Residual_Load_Diff']]"
   ]
  },
  {
   "cell_type": "code",
   "execution_count": 43,
   "id": "e509a264-e8a1-4c33-affb-5d560264a39f",
   "metadata": {},
   "outputs": [],
   "source": [
    "\n",
    "reg_q_75 = smf.ols('''q_75 ~ RES_forecast + Load_forecast + Mandatory_Hydro +\n",
    "                Residual_Load + avai_lignite + avai_natural_gas\n",
    "                + Residual_Load_Diff\n",
    "                ''', data=df)\n",
    "reg_q_75_result = reg_q_75.fit()"
   ]
  },
  {
   "cell_type": "code",
   "execution_count": 44,
   "id": "52b34194-090d-48fc-ac66-e43c7337a1d0",
   "metadata": {},
   "outputs": [
    {
     "data": {
      "text/html": [
       "<table class=\"simpletable\">\n",
       "<caption>OLS Regression Results</caption>\n",
       "<tr>\n",
       "  <th>Dep. Variable:</th>          <td>q_75</td>       <th>  R-squared:         </th> <td>   0.864</td> \n",
       "</tr>\n",
       "<tr>\n",
       "  <th>Model:</th>                   <td>OLS</td>       <th>  Adj. R-squared:    </th> <td>   0.864</td> \n",
       "</tr>\n",
       "<tr>\n",
       "  <th>Method:</th>             <td>Least Squares</td>  <th>  F-statistic:       </th> <td>   2437.</td> \n",
       "</tr>\n",
       "<tr>\n",
       "  <th>Date:</th>             <td>Sun, 10 Apr 2022</td> <th>  Prob (F-statistic):</th>  <td>  0.00</td>  \n",
       "</tr>\n",
       "<tr>\n",
       "  <th>Time:</th>                 <td>18:39:02</td>     <th>  Log-Likelihood:    </th> <td> -17104.</td> \n",
       "</tr>\n",
       "<tr>\n",
       "  <th>No. Observations:</th>      <td>  2303</td>      <th>  AIC:               </th> <td>3.422e+04</td>\n",
       "</tr>\n",
       "<tr>\n",
       "  <th>Df Residuals:</th>          <td>  2296</td>      <th>  BIC:               </th> <td>3.426e+04</td>\n",
       "</tr>\n",
       "<tr>\n",
       "  <th>Df Model:</th>              <td>     6</td>      <th>                     </th>     <td> </td>    \n",
       "</tr>\n",
       "<tr>\n",
       "  <th>Covariance Type:</th>      <td>nonrobust</td>    <th>                     </th>     <td> </td>    \n",
       "</tr>\n",
       "</table>\n",
       "<table class=\"simpletable\">\n",
       "<tr>\n",
       "           <td></td>             <th>coef</th>     <th>std err</th>      <th>t</th>      <th>P>|t|</th>  <th>[0.025</th>    <th>0.975]</th>  \n",
       "</tr>\n",
       "<tr>\n",
       "  <th>Intercept</th>          <td> 3002.2222</td> <td>  145.853</td> <td>   20.584</td> <td> 0.000</td> <td> 2716.204</td> <td> 3288.240</td>\n",
       "</tr>\n",
       "<tr>\n",
       "  <th>RES_forecast</th>       <td>    0.6414</td> <td>    0.008</td> <td>   78.333</td> <td> 0.000</td> <td>    0.625</td> <td>    0.657</td>\n",
       "</tr>\n",
       "<tr>\n",
       "  <th>Load_forecast</th>      <td>    0.4977</td> <td>    0.006</td> <td>   87.229</td> <td> 0.000</td> <td>    0.487</td> <td>    0.509</td>\n",
       "</tr>\n",
       "<tr>\n",
       "  <th>Mandatory_Hydro</th>    <td>    0.1329</td> <td>    0.012</td> <td>   10.862</td> <td> 0.000</td> <td>    0.109</td> <td>    0.157</td>\n",
       "</tr>\n",
       "<tr>\n",
       "  <th>Residual_Load</th>      <td>   -0.2766</td> <td>    0.006</td> <td>  -43.941</td> <td> 0.000</td> <td>   -0.289</td> <td>   -0.264</td>\n",
       "</tr>\n",
       "<tr>\n",
       "  <th>avai_lignite</th>       <td>   -0.1058</td> <td>    0.074</td> <td>   -1.427</td> <td> 0.154</td> <td>   -0.251</td> <td>    0.040</td>\n",
       "</tr>\n",
       "<tr>\n",
       "  <th>avai_natural_gas</th>   <td>   -0.0507</td> <td>    0.023</td> <td>   -2.178</td> <td> 0.030</td> <td>   -0.096</td> <td>   -0.005</td>\n",
       "</tr>\n",
       "<tr>\n",
       "  <th>Residual_Load_Diff</th> <td>   -0.1482</td> <td>    0.027</td> <td>   -5.406</td> <td> 0.000</td> <td>   -0.202</td> <td>   -0.094</td>\n",
       "</tr>\n",
       "</table>\n",
       "<table class=\"simpletable\">\n",
       "<tr>\n",
       "  <th>Omnibus:</th>       <td>93.336</td> <th>  Durbin-Watson:     </th> <td>   0.196</td>\n",
       "</tr>\n",
       "<tr>\n",
       "  <th>Prob(Omnibus):</th> <td> 0.000</td> <th>  Jarque-Bera (JB):  </th> <td> 104.133</td>\n",
       "</tr>\n",
       "<tr>\n",
       "  <th>Skew:</th>          <td> 0.518</td> <th>  Prob(JB):          </th> <td>2.44e-23</td>\n",
       "</tr>\n",
       "<tr>\n",
       "  <th>Kurtosis:</th>      <td> 2.893</td> <th>  Cond. No.          </th> <td>2.46e+16</td>\n",
       "</tr>\n",
       "</table><br/><br/>Notes:<br/>[1] Standard Errors assume that the covariance matrix of the errors is correctly specified.<br/>[2] The smallest eigenvalue is 2.76e-22. This might indicate that there are<br/>strong multicollinearity problems or that the design matrix is singular."
      ],
      "text/plain": [
       "<class 'statsmodels.iolib.summary.Summary'>\n",
       "\"\"\"\n",
       "                            OLS Regression Results                            \n",
       "==============================================================================\n",
       "Dep. Variable:                   q_75   R-squared:                       0.864\n",
       "Model:                            OLS   Adj. R-squared:                  0.864\n",
       "Method:                 Least Squares   F-statistic:                     2437.\n",
       "Date:                Sun, 10 Apr 2022   Prob (F-statistic):               0.00\n",
       "Time:                        18:39:02   Log-Likelihood:                -17104.\n",
       "No. Observations:                2303   AIC:                         3.422e+04\n",
       "Df Residuals:                    2296   BIC:                         3.426e+04\n",
       "Df Model:                           6                                         \n",
       "Covariance Type:            nonrobust                                         \n",
       "======================================================================================\n",
       "                         coef    std err          t      P>|t|      [0.025      0.975]\n",
       "--------------------------------------------------------------------------------------\n",
       "Intercept           3002.2222    145.853     20.584      0.000    2716.204    3288.240\n",
       "RES_forecast           0.6414      0.008     78.333      0.000       0.625       0.657\n",
       "Load_forecast          0.4977      0.006     87.229      0.000       0.487       0.509\n",
       "Mandatory_Hydro        0.1329      0.012     10.862      0.000       0.109       0.157\n",
       "Residual_Load         -0.2766      0.006    -43.941      0.000      -0.289      -0.264\n",
       "avai_lignite          -0.1058      0.074     -1.427      0.154      -0.251       0.040\n",
       "avai_natural_gas      -0.0507      0.023     -2.178      0.030      -0.096      -0.005\n",
       "Residual_Load_Diff    -0.1482      0.027     -5.406      0.000      -0.202      -0.094\n",
       "==============================================================================\n",
       "Omnibus:                       93.336   Durbin-Watson:                   0.196\n",
       "Prob(Omnibus):                  0.000   Jarque-Bera (JB):              104.133\n",
       "Skew:                           0.518   Prob(JB):                     2.44e-23\n",
       "Kurtosis:                       2.893   Cond. No.                     2.46e+16\n",
       "==============================================================================\n",
       "\n",
       "Notes:\n",
       "[1] Standard Errors assume that the covariance matrix of the errors is correctly specified.\n",
       "[2] The smallest eigenvalue is 2.76e-22. This might indicate that there are\n",
       "strong multicollinearity problems or that the design matrix is singular.\n",
       "\"\"\""
      ]
     },
     "execution_count": 44,
     "metadata": {},
     "output_type": "execute_result"
    }
   ],
   "source": [
    "reg_q_75_result.summary()"
   ]
  },
  {
   "cell_type": "code",
   "execution_count": 39,
   "id": "de01758e-6621-4240-9948-29949a53df1e",
   "metadata": {},
   "outputs": [],
   "source": [
    "test = df[['date_time','QUANTITY','UNITPRICE']].iloc[0]\n",
    "x = test['QUANTITY'].strip('][').split(', ')\n",
    "x = [float(i) for i in x][20:-3]\n",
    "y = test['UNITPRICE'].strip('][').split(', ')\n",
    "y = [float(i) for i in y][20:-3]"
   ]
  },
  {
   "cell_type": "code",
   "execution_count": 56,
   "id": "a28980af-58b9-412f-b79b-ea0b0921013b",
   "metadata": {},
   "outputs": [
    {
     "data": {
      "image/png": "[encoded data removed]",
      "text/plain": [
       "<Figure size 432x288 with 1 Axes>"
      ]
     },
     "metadata": {
      "needs_background": "light"
     },
     "output_type": "display_data"
    },
    {
     "name": "stdout",
     "output_type": "stream",
     "text": [
      "degree 1 score 0.6612590819629034\n",
      "equation\n",
      "  \n",
      "0.0479 x + 69.68\n"
     ]
    },
    {
     "data": {
      "image/png": "[encoded data removed]",
      "text/plain": [
       "<Figure size 432x288 with 1 Axes>"
      ]
     },
     "metadata": {
      "needs_background": "light"
     },
     "output_type": "display_data"
    },
    {
     "name": "stdout",
     "output_type": "stream",
     "text": [
      "degree 3 score 0.8938258823135194\n",
      "equation\n",
      "            3             2\n",
      "1.302e-08 x - 0.0001676 x + 0.7129 x - 718.8\n"
     ]
    },
    {
     "data": {
      "image/png": "[encoded data removed]",
      "text/plain": [
       "<Figure size 432x288 with 1 Axes>"
      ]
     },
     "metadata": {
      "needs_background": "light"
     },
     "output_type": "display_data"
    },
    {
     "name": "stdout",
     "output_type": "stream",
     "text": [
      "degree 5 score 0.9444480989261481\n",
      "equation\n",
      "            5             4             3            2\n",
      "5.506e-15 x - 1.114e-10 x + 8.785e-07 x - 0.003377 x + 6.357 x - 4468\n"
     ]
    },
    {
     "data": {
      "image/png": "[encoded data removed]",
      "text/plain": [
       "<Figure size 432x288 with 1 Axes>"
      ]
     },
     "metadata": {
      "needs_background": "light"
     },
     "output_type": "display_data"
    },
    {
     "name": "stdout",
     "output_type": "stream",
     "text": [
      "degree 7 score 0.9592411692339625\n",
      "equation\n",
      "           7             6             5             4             3\n",
      "1.23e-21 x - 3.669e-17 x + 4.601e-13 x - 3.137e-09 x + 1.253e-05 x\n",
      "            2\n",
      " - 0.02926 x + 37.01 x - 1.938e+04\n"
     ]
    },
    {
     "data": {
      "image/png": "[encoded data removed]",
      "text/plain": [
       "<Figure size 432x288 with 1 Axes>"
      ]
     },
     "metadata": {
      "needs_background": "light"
     },
     "output_type": "display_data"
    },
    {
     "name": "stdout",
     "output_type": "stream",
     "text": [
      "degree 9 score 0.9658499195444901\n",
      "equation\n",
      "            9             8             7             6             5\n",
      "5.668e-28 x - 2.143e-23 x + 3.534e-19 x - 3.331e-15 x + 1.977e-11 x\n",
      "              4             3          2\n",
      " - 7.653e-08 x + 0.0001932 x - 0.3068 x + 278 x - 1.095e+05\n"
     ]
    }
   ],
   "source": [
    "from sklearn.metrics import r2_score\n",
    "for degree in range(1,10,2):\n",
    "    mymodel = np.poly1d(np.polyfit(x, y, degree))\n",
    "    myline = np.linspace(1, 7000, 500)\n",
    "    plt.scatter(x, y)\n",
    "    plt.plot(myline, mymodel(myline))\n",
    "    plt.show()\n",
    "\n",
    "    print('degree',degree, 'score',r2_score(y, mymodel(x)))\n",
    "    print('equation\\n',mymodel)"
   ]
  },
  {
   "cell_type": "code",
   "execution_count": null,
   "id": "1d926df6-b5a4-4c95-87d5-2721d39518e1",
   "metadata": {},
   "outputs": [],
   "source": []
  }
 ],
 "metadata": {
  "kernelspec": {
   "display_name": "Python 3",
   "language": "python",
   "name": "python3"
  },
  "language_info": {
   "codemirror_mode": {
    "name": "ipython",
    "version": 3
   },
   "file_extension": ".py",
   "mimetype": "text/x-python",
   "name": "python",
   "nbconvert_exporter": "python",
   "pygments_lexer": "ipython3",
   "version": "3.8.8"
  }
 },
 "nbformat": 4,
 "nbformat_minor": 5
}
