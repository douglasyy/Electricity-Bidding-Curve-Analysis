{
 "cells": [
  {
   "cell_type": "code",
   "execution_count": 15,
   "id": "3c56c981",
   "metadata": {},
   "outputs": [],
   "source": [
    "import os\n",
    "import requests\n",
    "import pandas as pd\n",
    "import numpy as np\n",
    "import datetime\n"
   ]
  },
  {
   "cell_type": "code",
   "execution_count": 16,
   "id": "095f8bc2",
   "metadata": {},
   "outputs": [],
   "source": [
    "\n",
    "startdate = '2021-11-01'\n",
    "enddate = '2022-02-04'\n",
    "dates_dfidx = pd.date_range(start=startdate,end=enddate)\n",
    "dates = dates_dfidx.strftime(\"%Y%m%d\")\n"
   ]
  },
  {
   "cell_type": "code",
   "execution_count": 17,
   "id": "a3b1de12-3a3e-484a-ad4d-454bc108c10a",
   "metadata": {},
   "outputs": [],
   "source": [
    "# cur_wd = os.getcwd()\n",
    "# path = cur_wd+\"/aggr_curve/\"\n",
    "\n",
    "# os.mkdir(path)"
   ]
  },
  {
   "cell_type": "code",
   "execution_count": 18,
   "id": "7947055f",
   "metadata": {},
   "outputs": [],
   "source": [
    "for date in dates:\n",
    "    url = \"https://www.enexgroup.gr/documents/20126/200034/%s_EL-DAM_AggrCurves_EN_v01.xlsx\" % date\n",
    "    try:\n",
    "        response = requests.get(url)\n",
    "        if not response.status_code == 200:\n",
    "            print(\"HTTP error\",response.status_code)\n",
    "        else:\n",
    "            cur_wd = os.getcwd()\n",
    "            path = cur_wd+\"/aggr_curve/\"\n",
    "            output = open(path + date+'.xlsx', 'wb')\n",
    "            output.write(response.content)\n",
    "            output.close()\n",
    "    except:\n",
    "        print(\"Something went wrong with requests.get\")\n"
   ]
  },
  {
   "cell_type": "code",
   "execution_count": null,
   "id": "96a4c104",
   "metadata": {},
   "outputs": [],
   "source": []
  }
 ],
 "metadata": {
  "kernelspec": {
   "display_name": "Python 3 (ipykernel)",
   "language": "python",
   "name": "python3"
  },
  "language_info": {
   "codemirror_mode": {
    "name": "ipython",
    "version": 3
   },
   "file_extension": ".py",
   "mimetype": "text/x-python",
   "name": "python",
   "nbconvert_exporter": "python",
   "pygments_lexer": "ipython3",
   "version": "3.9.7"
  }
 },
 "nbformat": 4,
 "nbformat_minor": 5
}
