{
 "cells": [
  {
   "cell_type": "code",
   "execution_count": 24,
   "id": "1450a3ad",
   "metadata": {},
   "outputs": [],
   "source": [
    "import requests\n",
    "startdate = '2021-11-01'\n",
    "enddate = '2022-02-04'\n",
    "\n",
    "ISP1Requirements = 'ISP1Requirements'\n",
    "ISP_url=\"https://www.admie.gr/en/getOperationMarketFilewRange?dateStart=%s&dateEnd=%s&FileCategory=%s\" % (startdate,enddate,ISP1Requirements)\n",
    "\n",
    "ISP1UnitAvailabilities = 'ISP1UnitAvailabilities'\n",
    "Unit_url=\"https://www.admie.gr/en/getOperationMarketFilewRange?dateStart=%s&dateEnd=%s&FileCategory=%s\" % (startdate,enddate,ISP1UnitAvailabilities)\n"
   ]
  },
  {
   "cell_type": "code",
   "execution_count": 25,
   "id": "3c3ae5aa-70d5-4057-9363-0770366250cb",
   "metadata": {},
   "outputs": [],
   "source": [
    "import os"
   ]
  },
  {
   "cell_type": "code",
   "execution_count": 26,
   "id": "30d3f9d6-1863-4d8f-a156-b27878c6fb5e",
   "metadata": {},
   "outputs": [],
   "source": [
    "# cur_wd = os.getcwd()\n",
    "# path = cur_wd+\"/ISP1Requirements/\"\n",
    "\n",
    "# os.mkdir(path)"
   ]
  },
  {
   "cell_type": "code",
   "execution_count": 27,
   "id": "150aed3c-8c1f-4bc3-99e8-bedbf9b3cde9",
   "metadata": {},
   "outputs": [],
   "source": [
    "# cur_wd = os.getcwd()\n",
    "# path = cur_wd+\"/ISP1UnitAvailabilities/\"\n",
    "\n",
    "# os.mkdir(path)"
   ]
  },
  {
   "cell_type": "code",
   "execution_count": 28,
   "id": "f061ed8b",
   "metadata": {},
   "outputs": [],
   "source": [
    "def getexcel(url):\n",
    "    try:\n",
    "        response = requests.get(url)\n",
    "        if not response.status_code == 200:\n",
    "            print(\"HTTP error\",response.status_code)\n",
    "        else:\n",
    "            try:\n",
    "                response_data = response.json()\n",
    "            except:\n",
    "                print(\"Response not in valid JSON format\")\n",
    "    except:\n",
    "        print(\"Something went wrong with requests.get\")\n",
    "    return response_data"
   ]
  },
  {
   "cell_type": "code",
   "execution_count": 29,
   "id": "480f11f7",
   "metadata": {},
   "outputs": [],
   "source": [
    "def exportexcel(response_data, foldername):\n",
    "    final_list = list()\n",
    "    newdic = dict()\n",
    "    for dic in response_data:\n",
    "        date = dic['file_path'].split('/')[-1].split('_')[0]\n",
    "        version = dic['file_path'].split('/')[-1].split('_')[-1].split('.')[0]\n",
    "        if version == '02':\n",
    "            final_list.append(dic['file_path'])\n",
    "#         if newdic.get(date):\n",
    "#             newdic[date].append((dic['file_path'],int(version)))\n",
    "#         else:\n",
    "#             newdic[date] = [(dic['file_path'],int(version))]\n",
    "#     final_list = list()\n",
    "#     print('final_list', final_list)\n",
    "#     def myfunc(e):\n",
    "#         return e[1]\n",
    "#     for key, ele in newdic.items():\n",
    "#         ele.sort(key = myfunc, reverse = True)\n",
    "#         final_list.append(ele[0][0])\n",
    "                            \n",
    "\n",
    "    cur_wd = os.getcwd()\n",
    "    path = cur_wd+\"/\"+ foldername +\"/\"\n",
    "    for url in final_list:\n",
    "        resp = requests.get(url)\n",
    "        filename = url.split('/')[-1]\n",
    "        completeName = os.path.join(path, filename)\n",
    "        output = open(completeName, 'wb')\n",
    "        output.write(resp.content)\n",
    "        output.close()\n"
   ]
  },
  {
   "cell_type": "code",
   "execution_count": 30,
   "id": "fc64b096",
   "metadata": {},
   "outputs": [],
   "source": [
    "isp = getexcel(ISP_url)\n",
    "exportexcel(isp, ISP1Requirements)\n"
   ]
  },
  {
   "cell_type": "code",
   "execution_count": 31,
   "id": "3a6df7a6",
   "metadata": {},
   "outputs": [],
   "source": [
    "unit = getexcel(Unit_url)\n",
    "exportexcel(unit, ISP1UnitAvailabilities)\n"
   ]
  },
  {
   "cell_type": "code",
   "execution_count": null,
   "id": "ba3101bb",
   "metadata": {},
   "outputs": [],
   "source": []
  }
 ],
 "metadata": {
  "kernelspec": {
   "display_name": "Python 3",
   "language": "python",
   "name": "python3"
  },
  "language_info": {
   "codemirror_mode": {
    "name": "ipython",
    "version": 3
   },
   "file_extension": ".py",
   "mimetype": "text/x-python",
   "name": "python",
   "nbconvert_exporter": "python",
   "pygments_lexer": "ipython3",
   "version": "3.8.8"
  }
 },
 "nbformat": 4,
 "nbformat_minor": 5
}
